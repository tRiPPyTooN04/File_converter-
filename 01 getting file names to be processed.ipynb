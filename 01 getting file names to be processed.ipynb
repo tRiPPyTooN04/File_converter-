{
 "cells": [
  {
   "cell_type": "code",
   "execution_count": 2,
   "metadata": {},
   "outputs": [],
   "source": [
    "import glob"
   ]
  },
  {
   "cell_type": "code",
   "execution_count": 7,
   "metadata": {},
   "outputs": [
    {
     "data": {
      "text/plain": [
       "[]"
      ]
     },
     "execution_count": 7,
     "metadata": {},
     "output_type": "execute_result"
    }
   ],
   "source": [
    "glob.glob('data/retail_db/** ', recursive = True)"
   ]
  },
  {
   "cell_type": "code",
   "execution_count": 6,
   "metadata": {},
   "outputs": [
    {
     "data": {
      "text/plain": [
       "['data/retail_db/categories/part-00000',\n",
       " 'data/retail_db/orders/part-00000',\n",
       " 'data/retail_db/customers/part-00000',\n",
       " 'data/retail_db/order_items/part-00000',\n",
       " 'data/retail_db/products/part-00000',\n",
       " 'data/retail_db/departments/part-00000']"
      ]
     },
     "execution_count": 6,
     "metadata": {},
     "output_type": "execute_result"
    }
   ],
   "source": [
    "glob.glob('data/retail_db/*/*')"
   ]
  },
  {
   "cell_type": "code",
   "execution_count": 8,
   "metadata": {},
   "outputs": [],
   "source": [
    "src_file_names = glob.glob('data/retail_db/*/part-*')"
   ]
  },
  {
   "cell_type": "code",
   "execution_count": 9,
   "metadata": {},
   "outputs": [
    {
     "data": {
      "text/plain": [
       "['data/retail_db/categories/part-00000',\n",
       " 'data/retail_db/orders/part-00000',\n",
       " 'data/retail_db/customers/part-00000',\n",
       " 'data/retail_db/order_items/part-00000',\n",
       " 'data/retail_db/products/part-00000',\n",
       " 'data/retail_db/departments/part-00000']"
      ]
     },
     "execution_count": 9,
     "metadata": {},
     "output_type": "execute_result"
    }
   ],
   "source": [
    "src_file_names"
   ]
  },
  {
   "cell_type": "code",
   "execution_count": 13,
   "metadata": {},
   "outputs": [],
   "source": [
    "import pandas as pd"
   ]
  },
  {
   "cell_type": "code",
   "execution_count": 15,
   "metadata": {},
   "outputs": [
    {
     "name": "stdout",
     "output_type": "stream",
     "text": [
      "shape of data/retail_db/categories/part-00000 is (58, 3)\n",
      "shape of data/retail_db/orders/part-00000 is (68883, 4)\n",
      "shape of data/retail_db/customers/part-00000 is (12435, 9)\n",
      "shape of data/retail_db/order_items/part-00000 is (172198, 6)\n",
      "shape of data/retail_db/products/part-00000 is (1345, 6)\n",
      "shape of data/retail_db/departments/part-00000 is (6, 2)\n"
     ]
    }
   ],
   "source": [
    "for file_name in src_file_names :\n",
    "    df = pd.read_csv(file_name , header = None)\n",
    "    print(f'shape of {file_name} is {df.shape}')"
   ]
  }
 ],
 "metadata": {
  "kernelspec": {
   "display_name": "venv",
   "language": "python",
   "name": "python3"
  },
  "language_info": {
   "codemirror_mode": {
    "name": "ipython",
    "version": 3
   },
   "file_extension": ".py",
   "mimetype": "text/x-python",
   "name": "python",
   "nbconvert_exporter": "python",
   "pygments_lexer": "ipython3",
   "version": "3.10.12"
  }
 },
 "nbformat": 4,
 "nbformat_minor": 2
}
