{
 "cells": [
  {
   "cell_type": "code",
   "execution_count": 15,
   "metadata": {},
   "outputs": [],
   "source": [
    "import pandas as pd \n",
    "import json\n",
    "import glob\n",
    "import os"
   ]
  },
  {
   "cell_type": "markdown",
   "metadata": {},
   "source": [
    "function to get the column names from  json schema  file "
   ]
  },
  {
   "cell_type": "code",
   "execution_count": 16,
   "metadata": {},
   "outputs": [],
   "source": [
    "def get_column_names(schemas , ds_name , sorting_key = 'column_position'): \n",
    "    column_details = schemas[ds_name]\n",
    "    columns = sorted(column_details , key = lambda col:col[sorting_key])\n",
    "    return [col['column_name']for col in columns]"
   ]
  },
  {
   "cell_type": "markdown",
   "metadata": {},
   "source": [
    "function used to read the csv file along with columns  and store in data frame "
   ]
  },
  {
   "cell_type": "code",
   "execution_count": 17,
   "metadata": {},
   "outputs": [],
   "source": [
    "def read_csv(file , schemas):\n",
    "    file_path_list = file \n",
    "    ds_name = file.split('/')[-2]\n",
    "    file_name = file.split('/')[-1]\n",
    "    columns = get_column_names(schemas,ds_name)\n",
    "    df = pd.read_csv(file , names= columns )\n",
    "    return df"
   ]
  },
  {
   "cell_type": "markdown",
   "metadata": {},
   "source": [
    "function to  make the directories and  to  convert dataset to json and store it."
   ]
  },
  {
   "cell_type": "code",
   "execution_count": 18,
   "metadata": {},
   "outputs": [],
   "source": [
    "def to_json(df,target_base_dir,ds_name ,file_name):\n",
    "    json_file_path = f'{target_base_dir}/{ds_name}/{file_name}'\n",
    "    os.makedirs(f'{target_base_dir}/{ds_name}',exist_ok=True)\n",
    "    df.to_json(\n",
    "        json_file_path ,\n",
    "        orient ='records',\n",
    "        lines = True \n",
    "    )"
   ]
  },
  {
   "cell_type": "markdown",
   "metadata": {},
   "source": [
    "defining the driver funtion file_converter which call  all the functions needed for the objective , the only change here from previous 07 module \n",
    "is that instead of hard coding the source and target we are passing it as arguments in the function ."
   ]
  },
  {
   "cell_type": "code",
   "execution_count": 19,
   "metadata": {},
   "outputs": [],
   "source": [
    "def file_converter(source_base_dir,target_base_dir,ds_name):\n",
    "    schemas = json.load(open(f'{source_base_dir}/schemas.json'))\n",
    "    files = glob.glob(f'{source_base_dir}/{ds_name}/*part-*')\n",
    "\n",
    "    for file in files:\n",
    "        print(f'processing---{ds_name}')\n",
    "        df = read_csv(file,schemas)\n",
    "        file_name = file.split('/')[-1]\n",
    "        to_json(df,target_base_dir,ds_name,file_name)"
   ]
  },
  {
   "cell_type": "markdown",
   "metadata": {},
   "source": [
    "This function is  defined to  pass all the files that is  to be processed ,  which is declared \n",
    "in the  keys of the json_schema file  to file_converter function .Logic for this  Explaination \n",
    "is present below this function ."
   ]
  },
  {
   "cell_type": "code",
   "execution_count": 29,
   "metadata": {},
   "outputs": [],
   "source": [
    "def process_files(ds_names=None):\n",
    "    source_base_dir = 'data/retail_db'\n",
    "    target_base_dir = 'data/retail_db_json'\n",
    "    schemas = json.load(open(f'{source_base_dir}/schemas.json'))\n",
    "    if not ds_names:\n",
    "        ds_names = schemas.keys()\n",
    "    for ds_names in ds_names:\n",
    "        print(f'processing---{ds_names}')\n",
    "        file_converter(source_base_dir,target_base_dir,ds_names)"
   ]
  },
  {
   "cell_type": "code",
   "execution_count": 7,
   "metadata": {},
   "outputs": [],
   "source": [
    "schemas = json.load(open('data/retail_db/schemas.json'))"
   ]
  },
  {
   "cell_type": "code",
   "execution_count": 8,
   "metadata": {},
   "outputs": [
    {
     "name": "stdout",
     "output_type": "stream",
     "text": [
      "<class 'dict'>\n"
     ]
    }
   ],
   "source": [
    "print(type(schemas))"
   ]
  },
  {
   "cell_type": "code",
   "execution_count": 12,
   "metadata": {},
   "outputs": [
    {
     "data": {
      "text/plain": [
       "dict_keys(['departments', 'categories', 'orders', 'products', 'customers', 'order_items'])"
      ]
     },
     "execution_count": 12,
     "metadata": {},
     "output_type": "execute_result"
    }
   ],
   "source": [
    "schemas.keys()"
   ]
  },
  {
   "cell_type": "markdown",
   "metadata": {},
   "source": [
    "to validate the program i have deleted retail_db_json and ran the below function . if i dont pass any argument \n",
    "all the  data set present as keys in the schema file will be processed . If i pass arguments only passed files \n",
    "will be processed .\n"
   ]
  },
  {
   "cell_type": "code",
   "execution_count": 30,
   "metadata": {},
   "outputs": [
    {
     "name": "stdout",
     "output_type": "stream",
     "text": [
      "processing---departments\n",
      "processing---departments\n",
      "processing---categories\n",
      "processing---categories\n",
      "processing---orders\n",
      "processing---orders\n",
      "processing---products\n",
      "processing---products\n",
      "processing---customers\n",
      "processing---customers\n",
      "processing---order_items\n",
      "processing---order_items\n"
     ]
    }
   ],
   "source": [
    "process_files()"
   ]
  }
 ],
 "metadata": {
  "kernelspec": {
   "display_name": "venv",
   "language": "python",
   "name": "python3"
  },
  "language_info": {
   "codemirror_mode": {
    "name": "ipython",
    "version": 3
   },
   "file_extension": ".py",
   "mimetype": "text/x-python",
   "name": "python",
   "nbconvert_exporter": "python",
   "pygments_lexer": "ipython3",
   "version": "3.10.12"
  }
 },
 "nbformat": 4,
 "nbformat_minor": 2
}
