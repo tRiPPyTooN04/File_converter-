{
 "cells": [
  {
   "cell_type": "code",
   "execution_count": 28,
   "metadata": {},
   "outputs": [],
   "source": [
    "import pandas as pd \n",
    "import json\n",
    "import glob\n",
    "import os"
   ]
  },
  {
   "cell_type": "markdown",
   "metadata": {},
   "source": [
    "function to get the column names from  json schema  file "
   ]
  },
  {
   "cell_type": "code",
   "execution_count": 29,
   "metadata": {},
   "outputs": [],
   "source": [
    "def get_column_names(schemas , ds_name , sorting_key = 'column_position'): \n",
    "    column_details = schemas[ds_name]\n",
    "    columns = sorted(column_details , key = lambda col:col[sorting_key])\n",
    "    return [col['column_name']for col in columns]"
   ]
  },
  {
   "cell_type": "markdown",
   "metadata": {},
   "source": [
    "function used to read the csv file along with columns  and store in data frame "
   ]
  },
  {
   "cell_type": "code",
   "execution_count": 30,
   "metadata": {},
   "outputs": [],
   "source": [
    "def read_csv(file , schemas):\n",
    "    file_path_list = file \n",
    "    ds_name = file.split('/')[-2]\n",
    "    file_name = file.split('/')[-1]\n",
    "    columns = get_column_names(schemas,ds_name)\n",
    "    df = pd.read_csv(file , names= columns )\n",
    "    return df"
   ]
  },
  {
   "cell_type": "markdown",
   "metadata": {},
   "source": [
    "function to  make the directories and  to  convert dataset to json and store it."
   ]
  },
  {
   "cell_type": "code",
   "execution_count": 31,
   "metadata": {},
   "outputs": [],
   "source": [
    "def to_json(df,target_base_dir,ds_name ,file_name):\n",
    "    json_file_path = f'{target_base_dir}/{ds_name}/{file_name}'\n",
    "    os.makedirs(f'{target_base_dir}/{ds_name}',exist_ok=True)\n",
    "    df.to_json(\n",
    "        json_file_path ,\n",
    "        orient ='records',\n",
    "        lines = True \n",
    "    )"
   ]
  },
  {
   "cell_type": "markdown",
   "metadata": {},
   "source": [
    "defining the driver funtion file_converter which call  all the functions needed for the objective ."
   ]
  },
  {
   "cell_type": "code",
   "execution_count": 43,
   "metadata": {},
   "outputs": [],
   "source": [
    "def file_converter(ds_name):\n",
    "    source_base_dir = 'data/retail_db'\n",
    "    target_base_dir = 'data/retail_db_json'\n",
    "\n",
    "    schemas = json.load(open(f'{source_base_dir}/schemas.json'))\n",
    "    files = glob.glob(f'{source_base_dir}/{ds_name}/*part-*')\n",
    "\n",
    "    for file in files:\n",
    "        print(f'processing---{ds_name}')\n",
    "        df = read_csv(file,schemas)\n",
    "        file_name = file.split('/')[-1]\n",
    "        to_json(df,target_base_dir,ds_name,file_name)"
   ]
  },
  {
   "cell_type": "markdown",
   "metadata": {},
   "source": [
    "validating \"orders\" convertion of dataset orders to json file in target file loaction "
   ]
  },
  {
   "cell_type": "code",
   "execution_count": 44,
   "metadata": {},
   "outputs": [
    {
     "name": "stdout",
     "output_type": "stream",
     "text": [
      "processing---orders\n"
     ]
    }
   ],
   "source": [
    "ds_name = 'orders'\n",
    "file_converter(ds_name)"
   ]
  },
  {
   "cell_type": "code",
   "execution_count": null,
   "metadata": {},
   "outputs": [],
   "source": []
  }
 ],
 "metadata": {
  "kernelspec": {
   "display_name": "venv",
   "language": "python",
   "name": "python3"
  },
  "language_info": {
   "codemirror_mode": {
    "name": "ipython",
    "version": 3
   },
   "file_extension": ".py",
   "mimetype": "text/x-python",
   "name": "python",
   "nbconvert_exporter": "python",
   "pygments_lexer": "ipython3",
   "version": "3.10.12"
  }
 },
 "nbformat": 4,
 "nbformat_minor": 2
}
