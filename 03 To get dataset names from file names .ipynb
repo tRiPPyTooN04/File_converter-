{
 "cells": [
  {
   "cell_type": "code",
   "execution_count": 3,
   "metadata": {},
   "outputs": [],
   "source": [
    "import json \n",
    "import pandas as pd\n",
    "import glob"
   ]
  },
  {
   "cell_type": "code",
   "execution_count": 4,
   "metadata": {},
   "outputs": [],
   "source": [
    "def get_column_names(schemas , ds_name , sorting_key = 'column_position'): \n",
    "    column_details = schemas[ds_name]\n",
    "    columns = sorted(column_details , key = lambda col:col[sorting_key])\n",
    "    return [col['column_name']for col in columns]"
   ]
  },
  {
   "cell_type": "code",
   "execution_count": 5,
   "metadata": {},
   "outputs": [],
   "source": [
    "schemas = json.load(open ('data/retail_db/schemas.json'))"
   ]
  },
  {
   "cell_type": "code",
   "execution_count": 6,
   "metadata": {},
   "outputs": [
    {
     "data": {
      "text/plain": [
       "['data/retail_db/categories/part-00000',\n",
       " 'data/retail_db/orders/part-00000',\n",
       " 'data/retail_db/customers/part-00000',\n",
       " 'data/retail_db/order_items/part-00000',\n",
       " 'data/retail_db/products/part-00000',\n",
       " 'data/retail_db/departments/part-00000']"
      ]
     },
     "execution_count": 6,
     "metadata": {},
     "output_type": "execute_result"
    }
   ],
   "source": [
    "glob.glob('data/retail_db/**/part*')"
   ]
  },
  {
   "cell_type": "code",
   "execution_count": 7,
   "metadata": {},
   "outputs": [],
   "source": [
    "src_file_names = glob.glob('data/retail_db/*/part*')"
   ]
  },
  {
   "cell_type": "code",
   "execution_count": 8,
   "metadata": {},
   "outputs": [
    {
     "data": {
      "text/plain": [
       "['data/retail_db/categories/part-00000',\n",
       " 'data/retail_db/orders/part-00000',\n",
       " 'data/retail_db/customers/part-00000',\n",
       " 'data/retail_db/order_items/part-00000',\n",
       " 'data/retail_db/products/part-00000',\n",
       " 'data/retail_db/departments/part-00000']"
      ]
     },
     "execution_count": 8,
     "metadata": {},
     "output_type": "execute_result"
    }
   ],
   "source": [
    "src_file_names"
   ]
  },
  {
   "cell_type": "code",
   "execution_count": 11,
   "metadata": {},
   "outputs": [
    {
     "name": "stdout",
     "output_type": "stream",
     "text": [
      "['data', 'retail_db', 'categories', 'part-00000']\n",
      "['data', 'retail_db', 'orders', 'part-00000']\n",
      "['data', 'retail_db', 'customers', 'part-00000']\n",
      "['data', 'retail_db', 'order_items', 'part-00000']\n",
      "['data', 'retail_db', 'products', 'part-00000']\n",
      "['data', 'retail_db', 'departments', 'part-00000']\n"
     ]
    }
   ],
   "source": [
    "for file_name in src_file_names:\n",
    "    folders = file_name.split('/')\n",
    "    print(folders)"
   ]
  },
  {
   "cell_type": "code",
   "execution_count": null,
   "metadata": {},
   "outputs": [],
   "source": []
  }
 ],
 "metadata": {
  "kernelspec": {
   "display_name": "venv",
   "language": "python",
   "name": "python3"
  },
  "language_info": {
   "codemirror_mode": {
    "name": "ipython",
    "version": 3
   },
   "file_extension": ".py",
   "mimetype": "text/x-python",
   "name": "python",
   "nbconvert_exporter": "python",
   "pygments_lexer": "ipython3",
   "version": "3.10.12"
  }
 },
 "nbformat": 4,
 "nbformat_minor": 2
}
